{
 "cells": [
  {
   "cell_type": "code",
   "execution_count": 5,
   "id": "b0ea79e6-a9f1-4b79-8825-52dbc378afbc",
   "metadata": {},
   "outputs": [
    {
     "ename": "ImportError",
     "evalue": "DLL load failed while importing _swigfaiss: The specified module could not be found.",
     "output_type": "error",
     "traceback": [
      "\u001b[1;31m---------------------------------------------------------------------------\u001b[0m",
      "\u001b[1;31mImportError\u001b[0m                               Traceback (most recent call last)",
      "\u001b[1;32m~\\AppData\\Local\\Temp\\ipykernel_12980\\1605149588.py\u001b[0m in \u001b[0;36m?\u001b[1;34m()\u001b[0m\n\u001b[0;32m      1\u001b[0m \u001b[1;32mimport\u001b[0m \u001b[0mpandas\u001b[0m \u001b[1;32mas\u001b[0m \u001b[0mpd\u001b[0m\u001b[1;33m\u001b[0m\u001b[1;33m\u001b[0m\u001b[0m\n\u001b[1;32m----> 2\u001b[1;33m \u001b[1;32mimport\u001b[0m \u001b[0mfaiss\u001b[0m\u001b[1;33m\u001b[0m\u001b[1;33m\u001b[0m\u001b[0m\n\u001b[0m\u001b[0;32m      3\u001b[0m \u001b[1;32mimport\u001b[0m \u001b[0mrequests\u001b[0m\u001b[1;33m\u001b[0m\u001b[1;33m\u001b[0m\u001b[0m\n\u001b[0;32m      4\u001b[0m \u001b[1;32mimport\u001b[0m \u001b[0mnumpy\u001b[0m \u001b[1;32mas\u001b[0m \u001b[0mnp\u001b[0m\u001b[1;33m\u001b[0m\u001b[1;33m\u001b[0m\u001b[0m\n",
      "\u001b[1;32m~\\anaconda3\\envs\\mlenv\\lib\\site-packages\\faiss\\__init__.py\u001b[0m in \u001b[0;36m?\u001b[1;34m()\u001b[0m\n\u001b[0;32m     12\u001b[0m \u001b[1;32mimport\u001b[0m \u001b[0msys\u001b[0m\u001b[1;33m\u001b[0m\u001b[1;33m\u001b[0m\u001b[0m\n\u001b[0;32m     13\u001b[0m \u001b[1;32mimport\u001b[0m \u001b[0minspect\u001b[0m\u001b[1;33m\u001b[0m\u001b[1;33m\u001b[0m\u001b[0m\n\u001b[0;32m     14\u001b[0m \u001b[1;33m\u001b[0m\u001b[0m\n\u001b[0;32m     15\u001b[0m \u001b[1;31m# We import * so that the symbol foo can be accessed as faiss.foo.\u001b[0m\u001b[1;33m\u001b[0m\u001b[1;33m\u001b[0m\u001b[0m\n\u001b[1;32m---> 16\u001b[1;33m \u001b[1;32mfrom\u001b[0m \u001b[1;33m.\u001b[0m\u001b[0mloader\u001b[0m \u001b[1;32mimport\u001b[0m \u001b[1;33m*\u001b[0m\u001b[1;33m\u001b[0m\u001b[1;33m\u001b[0m\u001b[0m\n\u001b[0m\u001b[0;32m     17\u001b[0m \u001b[1;33m\u001b[0m\u001b[0m\n\u001b[0;32m     18\u001b[0m \u001b[1;31m# additional wrappers\u001b[0m\u001b[1;33m\u001b[0m\u001b[1;33m\u001b[0m\u001b[0m\n\u001b[0;32m     19\u001b[0m \u001b[1;32mfrom\u001b[0m \u001b[0mfaiss\u001b[0m \u001b[1;32mimport\u001b[0m \u001b[0mclass_wrappers\u001b[0m\u001b[1;33m\u001b[0m\u001b[1;33m\u001b[0m\u001b[0m\n",
      "\u001b[1;32m~\\anaconda3\\envs\\mlenv\\lib\\site-packages\\faiss\\loader.py\u001b[0m in \u001b[0;36m?\u001b[1;34m()\u001b[0m\n\u001b[0;32m     94\u001b[0m \u001b[1;33m\u001b[0m\u001b[0m\n\u001b[0;32m     95\u001b[0m \u001b[1;32mif\u001b[0m \u001b[1;32mnot\u001b[0m \u001b[0mloaded\u001b[0m\u001b[1;33m:\u001b[0m\u001b[1;33m\u001b[0m\u001b[1;33m\u001b[0m\u001b[0m\n\u001b[0;32m     96\u001b[0m     \u001b[1;31m# we import * so that the symbol X can be accessed as faiss.X\u001b[0m\u001b[1;33m\u001b[0m\u001b[1;33m\u001b[0m\u001b[0m\n\u001b[0;32m     97\u001b[0m     \u001b[0mlogger\u001b[0m\u001b[1;33m.\u001b[0m\u001b[0minfo\u001b[0m\u001b[1;33m(\u001b[0m\u001b[1;34m\"Loading faiss.\"\u001b[0m\u001b[1;33m)\u001b[0m\u001b[1;33m\u001b[0m\u001b[1;33m\u001b[0m\u001b[0m\n\u001b[1;32m---> 98\u001b[1;33m     \u001b[1;32mfrom\u001b[0m \u001b[1;33m.\u001b[0m\u001b[0mswigfaiss\u001b[0m \u001b[1;32mimport\u001b[0m \u001b[1;33m*\u001b[0m\u001b[1;33m\u001b[0m\u001b[1;33m\u001b[0m\u001b[0m\n\u001b[0m\u001b[0;32m     99\u001b[0m     \u001b[0mlogger\u001b[0m\u001b[1;33m.\u001b[0m\u001b[0minfo\u001b[0m\u001b[1;33m(\u001b[0m\u001b[1;34m\"Successfully loaded faiss.\"\u001b[0m\u001b[1;33m)\u001b[0m\u001b[1;33m\u001b[0m\u001b[1;33m\u001b[0m\u001b[0m\n",
      "\u001b[1;32m~\\anaconda3\\envs\\mlenv\\lib\\site-packages\\faiss\\swigfaiss.py\u001b[0m in \u001b[0;36m?\u001b[1;34m()\u001b[0m\n\u001b[0;32m      6\u001b[0m \u001b[1;33m\u001b[0m\u001b[0m\n\u001b[0;32m      7\u001b[0m \u001b[1;32mfrom\u001b[0m \u001b[0msys\u001b[0m \u001b[1;32mimport\u001b[0m \u001b[0mversion_info\u001b[0m \u001b[1;32mas\u001b[0m \u001b[0m_swig_python_version_info\u001b[0m\u001b[1;33m\u001b[0m\u001b[1;33m\u001b[0m\u001b[0m\n\u001b[0;32m      8\u001b[0m \u001b[1;31m# Import the low-level C/C++ module\u001b[0m\u001b[1;33m\u001b[0m\u001b[1;33m\u001b[0m\u001b[0m\n\u001b[0;32m      9\u001b[0m \u001b[1;32mif\u001b[0m \u001b[0m__package__\u001b[0m \u001b[1;32mor\u001b[0m \u001b[1;34m\".\"\u001b[0m \u001b[1;32min\u001b[0m \u001b[0m__name__\u001b[0m\u001b[1;33m:\u001b[0m\u001b[1;33m\u001b[0m\u001b[1;33m\u001b[0m\u001b[0m\n\u001b[1;32m---> 10\u001b[1;33m     \u001b[1;32mfrom\u001b[0m \u001b[1;33m.\u001b[0m \u001b[1;32mimport\u001b[0m \u001b[0m_swigfaiss\u001b[0m\u001b[1;33m\u001b[0m\u001b[1;33m\u001b[0m\u001b[0m\n\u001b[0m\u001b[0;32m     11\u001b[0m \u001b[1;32melse\u001b[0m\u001b[1;33m:\u001b[0m\u001b[1;33m\u001b[0m\u001b[1;33m\u001b[0m\u001b[0m\n\u001b[0;32m     12\u001b[0m     \u001b[1;32mimport\u001b[0m \u001b[0m_swigfaiss\u001b[0m\u001b[1;33m\u001b[0m\u001b[1;33m\u001b[0m\u001b[0m\n\u001b[0;32m     13\u001b[0m \u001b[1;33m\u001b[0m\u001b[0m\n",
      "\u001b[1;31mImportError\u001b[0m: DLL load failed while importing _swigfaiss: The specified module could not be found."
     ]
    }
   ],
   "source": [
    "import pandas as pd\n",
    "import faiss\n",
    "import requests\n",
    "import numpy as np\n"
   ]
  },
  {
   "cell_type": "code",
   "execution_count": 3,
   "id": "11301774-e1ed-48e9-877f-5959df5aa69a",
   "metadata": {},
   "outputs": [
    {
     "name": "stdout",
     "output_type": "stream",
     "text": [
      "Retrieving notices: ...working... done\n",
      "Channels:\n",
      " - conda-forge\n",
      " - defaults\n",
      "Platform: win-64\n",
      "Collecting package metadata (repodata.json): ...working... done\n",
      "Solving environment: ...working... done\n",
      "\n",
      "## Package Plan ##\n",
      "\n",
      "  environment location: C:\\Users\\Spencer\\anaconda3\\envs\\mlenv\n",
      "\n",
      "  added / updated specs:\n",
      "    - faiss-cpu\n",
      "\n",
      "\n",
      "The following packages will be downloaded:\n",
      "\n",
      "    package                    |            build\n",
      "    ---------------------------|-----------------\n",
      "    ca-certificates-2024.8.30  |       h56e8100_0         155 KB  conda-forge\n",
      "    certifi-2024.7.4           |     pyhd8ed1ab_0         156 KB  conda-forge\n",
      "    faiss-1.8.0                |py310h08dd226_1_cpu        1007 KB  conda-forge\n",
      "    faiss-cpu-1.8.0            |       hf9c7e24_1          17 KB  conda-forge\n",
      "    libblas-3.9.0              |1_h8933c1f_netlib         193 KB  conda-forge\n",
      "    libfaiss-1.8.0             |   hb15a273_1_cpu         1.5 MB  conda-forge\n",
      "    liblapack-3.9.0            |5_hd5c7e75_netlib         2.7 MB  conda-forge\n",
      "    m2w64-gcc-libgfortran-5.3.0|                6         342 KB  conda-forge\n",
      "    m2w64-gcc-libs-5.3.0       |                7         520 KB  conda-forge\n",
      "    m2w64-gcc-libs-core-5.3.0  |                7         214 KB  conda-forge\n",
      "    m2w64-gmp-6.1.0            |                2         726 KB  conda-forge\n",
      "    m2w64-libwinpthread-git-5.0.0.4634.697f757|                2          31 KB  conda-forge\n",
      "    msys2-conda-epoch-20160418 |                1           3 KB  conda-forge\n",
      "    openssl-1.1.1w             |       hcfcfb64_0         5.0 MB  conda-forge\n",
      "    python_abi-3.10            |          2_cp310           4 KB  conda-forge\n",
      "    ucrt-10.0.22621.0          |       h57928b3_0         1.2 MB  conda-forge\n",
      "    vc14_runtime-14.40.33810   |      hcc2c482_20         733 KB  conda-forge\n",
      "    vs2015_runtime-14.40.33810 |      h3bf8584_20          17 KB  conda-forge\n",
      "    ------------------------------------------------------------\n",
      "                                           Total:        14.5 MB\n",
      "\n",
      "The following NEW packages will be INSTALLED:\n",
      "\n",
      "  faiss              conda-forge/win-64::faiss-1.8.0-py310h08dd226_1_cpu \n",
      "  faiss-cpu          conda-forge/win-64::faiss-cpu-1.8.0-hf9c7e24_1 \n",
      "  libblas            conda-forge/win-64::libblas-3.9.0-1_h8933c1f_netlib \n",
      "  libfaiss           conda-forge/win-64::libfaiss-1.8.0-hb15a273_1_cpu \n",
      "  liblapack          conda-forge/win-64::liblapack-3.9.0-5_hd5c7e75_netlib \n",
      "  m2w64-gcc-libgfor~ conda-forge/win-64::m2w64-gcc-libgfortran-5.3.0-6 \n",
      "  m2w64-gcc-libs     conda-forge/win-64::m2w64-gcc-libs-5.3.0-7 \n",
      "  m2w64-gcc-libs-co~ conda-forge/win-64::m2w64-gcc-libs-core-5.3.0-7 \n",
      "  m2w64-gmp          conda-forge/win-64::m2w64-gmp-6.1.0-2 \n",
      "  m2w64-libwinpthre~ conda-forge/win-64::m2w64-libwinpthread-git-5.0.0.4634.697f757-2 \n",
      "  msys2-conda-epoch  conda-forge/win-64::msys2-conda-epoch-20160418-1 \n",
      "  python_abi         conda-forge/win-64::python_abi-3.10-2_cp310 \n",
      "  ucrt               conda-forge/win-64::ucrt-10.0.22621.0-h57928b3_0 \n",
      "  vc14_runtime       conda-forge/win-64::vc14_runtime-14.40.33810-hcc2c482_20 \n",
      "\n",
      "The following packages will be UPDATED:\n",
      "\n",
      "  ca-certificates    pkgs/main::ca-certificates-2024.3.11-~ --> conda-forge::ca-certificates-2024.8.30-h56e8100_0 \n",
      "  certifi            pkgs/main/win-64::certifi-2024.2.2-py~ --> conda-forge/noarch::certifi-2024.7.4-pyhd8ed1ab_0 \n",
      "  vs2015_runtime     pkgs/main::vs2015_runtime-14.27.29016~ --> conda-forge::vs2015_runtime-14.40.33810-h3bf8584_20 \n",
      "\n",
      "The following packages will be SUPERSEDED by a higher-priority channel:\n",
      "\n",
      "  openssl              pkgs/main::openssl-1.1.1w-h2bbff1b_0 --> conda-forge::openssl-1.1.1w-hcfcfb64_0 \n",
      "\n",
      "\n",
      "\n",
      "Downloading and Extracting Packages: ...working... done\n",
      "Preparing transaction: ...working... done\n",
      "Verifying transaction: ...working... done\n",
      "Executing transaction: ...working... done\n"
     ]
    }
   ],
   "source": [
    "#!conda install -c conda-forge faiss-cpu -y\n"
   ]
  },
  {
   "cell_type": "code",
   "execution_count": null,
   "id": "b4cabe0a-87b5-4d12-a7a9-29450193fbbf",
   "metadata": {},
   "outputs": [],
   "source": []
  }
 ],
 "metadata": {
  "kernelspec": {
   "display_name": "Python 3 (ipykernel)",
   "language": "python",
   "name": "python3"
  },
  "language_info": {
   "codemirror_mode": {
    "name": "ipython",
    "version": 3
   },
   "file_extension": ".py",
   "mimetype": "text/x-python",
   "name": "python",
   "nbconvert_exporter": "python",
   "pygments_lexer": "ipython3",
   "version": "3.10.13"
  }
 },
 "nbformat": 4,
 "nbformat_minor": 5
}
